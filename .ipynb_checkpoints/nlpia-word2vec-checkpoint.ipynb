{
 "cells": [
  {
   "cell_type": "code",
   "execution_count": 1,
   "metadata": {},
   "outputs": [],
   "source": [
    "from gensim.models.keyedvectors import KeyedVectors\n",
    "word_vectors = KeyedVectors.load_word2vec_format('../GoogleNews-vectors-negative300.bin.gz', binary=True)"
   ]
  },
  {
   "cell_type": "code",
   "execution_count": 3,
   "metadata": {},
   "outputs": [
    {
     "name": "stderr",
     "output_type": "stream",
     "text": [
      "/Users/tomjoshi/anaconda3/envs/nlpiaenv/lib/python3.7/site-packages/gensim/matutils.py:737: FutureWarning: Conversion of the second argument of issubdtype from `int` to `np.signedinteger` is deprecated. In future, it will be treated as `np.int64 == np.dtype(int).type`.\n",
      "  if np.issubdtype(vec.dtype, np.int):\n"
     ]
    },
    {
     "data": {
      "text/plain": [
       "[('cook', 0.6973531246185303),\n",
       " ('oven_roasting', 0.6754531860351562),\n",
       " ('Slow_cooker', 0.6742031574249268),\n",
       " ('sweet_potatoes', 0.6600280404090881),\n",
       " ('stir_fry_vegetables', 0.6548759341239929)]"
      ]
     },
     "execution_count": 3,
     "metadata": {},
     "output_type": "execute_result"
    }
   ],
   "source": [
    "word_vectors.most_similar(positive=['cooking', 'potatoes'], topn=5)"
   ]
  },
  {
   "cell_type": "code",
   "execution_count": 4,
   "metadata": {},
   "outputs": [],
   "source": [
    "uber_10k_sample = \"\"\"We are a technology platform that uses a massive network, leading technology, operational excellence and product\n",
    "expertise to power movement from point A to point B. We develop and operate proprietary technology applications\n",
    "supporting a variety of offerings on our platform. We connect consumers with providers of ride services, restaurants and\n",
    "food delivery services, public transportation networks, e-bikes, e-scooters and other personal mobility options. We use\n",
    "this same network, technology, operational excellence and product expertise to connect shippers with carriers in the freight\n",
    "industry. We are also developing technologies that provide autonomous driving vehicle solutions to consumers, networks of\n",
    "vertical take-off and landing vehicles and new solutions to solve everyday problems.\"\"\""
   ]
  },
  {
   "cell_type": "code",
   "execution_count": 7,
   "metadata": {
    "scrolled": true
   },
   "outputs": [
    {
     "data": {
      "text/plain": [
       "[['We',\n",
       "  'are',\n",
       "  'a',\n",
       "  'technology',\n",
       "  'platform',\n",
       "  'that',\n",
       "  'uses',\n",
       "  'a',\n",
       "  'massive',\n",
       "  'network',\n",
       "  ',',\n",
       "  'leading',\n",
       "  'technology',\n",
       "  ',',\n",
       "  'operational',\n",
       "  'excellence',\n",
       "  'and',\n",
       "  'product',\n",
       "  'expertise',\n",
       "  'to',\n",
       "  'power',\n",
       "  'movement',\n",
       "  'from',\n",
       "  'point',\n",
       "  'A',\n",
       "  'to',\n",
       "  'point',\n",
       "  'B'],\n",
       " ['We',\n",
       "  'develop',\n",
       "  'and',\n",
       "  'operate',\n",
       "  'proprietary',\n",
       "  'technology',\n",
       "  'applications',\n",
       "  'supporting',\n",
       "  'a',\n",
       "  'variety',\n",
       "  'of',\n",
       "  'offerings',\n",
       "  'on',\n",
       "  'our',\n",
       "  'platform'],\n",
       " ['We',\n",
       "  'connect',\n",
       "  'consumers',\n",
       "  'with',\n",
       "  'providers',\n",
       "  'of',\n",
       "  'ride',\n",
       "  'services',\n",
       "  ',',\n",
       "  'restaurants',\n",
       "  'and',\n",
       "  'food',\n",
       "  'delivery',\n",
       "  'services',\n",
       "  ',',\n",
       "  'public',\n",
       "  'transportation',\n",
       "  'networks',\n",
       "  ',',\n",
       "  'e-bikes',\n",
       "  ',',\n",
       "  'e-scooters',\n",
       "  'and',\n",
       "  'other',\n",
       "  'personal',\n",
       "  'mobility',\n",
       "  'options'],\n",
       " ['We',\n",
       "  'use',\n",
       "  'this',\n",
       "  'same',\n",
       "  'network',\n",
       "  ',',\n",
       "  'technology',\n",
       "  ',',\n",
       "  'operational',\n",
       "  'excellence',\n",
       "  'and',\n",
       "  'product',\n",
       "  'expertise',\n",
       "  'to',\n",
       "  'connect',\n",
       "  'shippers',\n",
       "  'with',\n",
       "  'carriers',\n",
       "  'in',\n",
       "  'the',\n",
       "  'freight',\n",
       "  'industry'],\n",
       " ['We',\n",
       "  'are',\n",
       "  'also',\n",
       "  'developing',\n",
       "  'technologies',\n",
       "  'that',\n",
       "  'provide',\n",
       "  'autonomous',\n",
       "  'driving',\n",
       "  'vehicle',\n",
       "  'solutions',\n",
       "  'to',\n",
       "  'consumers',\n",
       "  ',',\n",
       "  'networks',\n",
       "  'of',\n",
       "  'vertical',\n",
       "  'take-off',\n",
       "  'and',\n",
       "  'landing',\n",
       "  'vehicles',\n",
       "  'and',\n",
       "  'new',\n",
       "  'solutions',\n",
       "  'to',\n",
       "  'solve',\n",
       "  'everyday',\n",
       "  'problems'],\n",
       " []]"
      ]
     },
     "execution_count": 7,
     "metadata": {},
     "output_type": "execute_result"
    }
   ],
   "source": [
    "from nltk.tokenize import TreebankWordTokenizer\n",
    "\n",
    "token_list = []\n",
    "tokenizer = TreebankWordTokenizer()\n",
    "for sent in uber_10k_sample.split('.'):\n",
    "    token_list.append(tokenizer.tokenize(sent))\n",
    "\n",
    "token_list"
   ]
  },
  {
   "cell_type": "code",
   "execution_count": 8,
   "metadata": {},
   "outputs": [],
   "source": [
    "from gensim.models.word2vec import Word2Vec as w2v\n",
    "# number of vector elements to represent the word vector\n",
    "num_features = 300\n",
    "# Min number of word count to be considered in the Word2Vec model. If small corpus, reduce min count\n",
    "min_word_count = 2\n",
    "# number of CPU cores used for the training. Set cores dynamically with num_workers = multiprocessing.cpu_count()\n",
    "num_workers = 1\n",
    "window_size = 6\n",
    "# subsampling rate for frequent terms\n",
    "subsampling = 1e-3"
   ]
  },
  {
   "cell_type": "code",
   "execution_count": 10,
   "metadata": {},
   "outputs": [
    {
     "name": "stderr",
     "output_type": "stream",
     "text": [
      "/Users/tomjoshi/anaconda3/envs/nlpiaenv/lib/python3.7/site-packages/gensim/models/base_any2vec.py:743: UserWarning: C extension not loaded, training will be slow. Install a C compiler and reinstall gensim for fast training.\n",
      "  \"C extension not loaded, training will be slow. \"\n"
     ]
    }
   ],
   "source": [
    "model = w2v(token_list, workers=num_workers, size=num_features, min_count=min_word_count, sample=subsampling)"
   ]
  },
  {
   "cell_type": "code",
   "execution_count": 11,
   "metadata": {},
   "outputs": [],
   "source": [
    "model.init_sims(replace=True)\n",
    "model_name = \"models_and_json/uber_word2vec_model\"\n",
    "model.save(model_name)"
   ]
  },
  {
   "cell_type": "code",
   "execution_count": 17,
   "metadata": {},
   "outputs": [
    {
     "name": "stderr",
     "output_type": "stream",
     "text": [
      "/Users/tomjoshi/anaconda3/envs/nlpiaenv/lib/python3.7/site-packages/ipykernel_launcher.py:4: DeprecationWarning: Call to deprecated `most_similar` (Method will be removed in 4.0.0, use self.wv.most_similar() instead).\n",
      "  after removing the cwd from sys.path.\n"
     ]
    },
    {
     "data": {
      "text/plain": [
       "('product', 0.05627391114830971)"
      ]
     },
     "execution_count": 17,
     "metadata": {},
     "output_type": "execute_result"
    }
   ],
   "source": [
    "from gensim.models.word2vec import Word2Vec as w2v\n",
    "model_name = \"models_and_json/uber_word2vec_model\"\n",
    "model = w2v.load(model_name)\n",
    "model.most_similar('technology')[4]"
   ]
  }
 ],
 "metadata": {
  "kernelspec": {
   "display_name": "Python 3",
   "language": "python",
   "name": "python3"
  },
  "language_info": {
   "codemirror_mode": {
    "name": "ipython",
    "version": 3
   },
   "file_extension": ".py",
   "mimetype": "text/x-python",
   "name": "python",
   "nbconvert_exporter": "python",
   "pygments_lexer": "ipython3",
   "version": "3.7.9"
  }
 },
 "nbformat": 4,
 "nbformat_minor": 4
}
